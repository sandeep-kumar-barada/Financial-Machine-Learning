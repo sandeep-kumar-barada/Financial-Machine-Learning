{
 "cells": [
  {
   "cell_type": "markdown",
   "id": "430dae50",
   "metadata": {},
   "source": [
    "# Motivation (finance with Machine Learning)\n",
    "- Some Mathematical proven things is not well performed in the real world.\n",
    "- Ml helps us to do the things, captures the relations what previously done by experts\n",
    "- More practical then old methods\n",
    "- Ml fails sometimes (most of due to we didn't apply it in right way)\n"
   ]
  },
  {
   "cell_type": "markdown",
   "id": "8886171b",
   "metadata": {},
   "source": [
    "# Meta-strategy paradigm\n",
    "- pdf : https://www.garp.org/hubfs/Whitepapers/a1Z1W0000054wyoUAA.pdf\n"
   ]
  },
  {
   "cell_type": "markdown",
   "id": "48e802cf",
   "metadata": {},
   "source": [
    "# Structure by strategy component\n",
    "- Data \n",
    "- Software\n",
    "- Hardware\n",
    "- Math\n",
    "- Meta-Strategies\n",
    "- overfitting"
   ]
  }
 ],
 "metadata": {
  "language_info": {
   "name": "python"
  }
 },
 "nbformat": 4,
 "nbformat_minor": 5
}
